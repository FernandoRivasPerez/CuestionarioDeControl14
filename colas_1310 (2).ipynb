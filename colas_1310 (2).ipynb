{
  "nbformat": 4,
  "nbformat_minor": 0,
  "metadata": {
    "colab": {
      "name": "colas_1310.ipynb",
      "provenance": [],
      "collapsed_sections": []
    },
    "kernelspec": {
      "name": "python3",
      "display_name": "Python 3"
    },
    "language_info": {
      "name": "python"
    }
  },
  "cells": [
    {
      "cell_type": "code",
      "metadata": {
        "id": "-a4XvrbFKPe6"
      },
      "source": [
        "class Queue:\n",
        "    def __init__( self ):\n",
        "        self.data = []\n",
        "    \n",
        "    def is_empty( self ):\n",
        "        return len( self.data ) == 0\n",
        "\n",
        "    def length( self ):\n",
        "        return len( self.data )\n",
        "\n",
        "    def enqueue( self , value ):\n",
        "        self.data.append( value )\n",
        "\n",
        "    def dequeue( self ):\n",
        "        return self.data.pop(0)\n",
        "\n",
        "    def to_string( self ):\n",
        "        for elem in self.data:\n",
        "            print(f\"|{ elem }| <-- \" , end=\"\" )\n",
        "        print(\"\")"
      ],
      "execution_count": 22,
      "outputs": []
    },
    {
      "cell_type": "code",
      "metadata": {
        "colab": {
          "base_uri": "https://localhost:8080/"
        },
        "id": "Wo0gM96iNgg_",
        "outputId": "51714cbb-d3e9-44fc-b3cf-864369c35197"
      },
      "source": [
        "cola = Queue()\n",
        "print(\"¿Está vacío?: \", cola.is_empty())\n",
        "print(\"Numero de elementos = \", cola.length())\n",
        "cola.enqueue(10)\n",
        "cola.enqueue(20)\n",
        "cola.enqueue(30)\n",
        "print(\"¿Está vacío?: \", cola.is_empty())\n",
        "print(\"Numero de elementos = \", cola.length())\n",
        "cola.enqueue(40)\n",
        "cola.enqueue(50)\n",
        "cola.enqueue(60)\n",
        "cola.to_string()\n",
        "siguiente = cola.dequeue()\n",
        "print(\"Atendiendo a: \" , siguiente)\n",
        "cola.to_string()"
      ],
      "execution_count": 23,
      "outputs": [
        {
          "output_type": "stream",
          "name": "stdout",
          "text": [
            "¿Está vacío?:  True\n",
            "Numero de elementos =  0\n",
            "¿Está vacío?:  False\n",
            "Numero de elementos =  3\n",
            "|10| <-- |20| <-- |30| <-- |40| <-- |50| <-- |60| <-- \n",
            "Atendiendo a:  10\n",
            "|20| <-- |30| <-- |40| <-- |50| <-- |60| <-- \n"
          ]
        }
      ]
    },
    {
      "cell_type": "markdown",
      "metadata": {
        "id": "4MubaM6BQjF0"
      },
      "source": [
        "# Variantes del ADT Cola\n",
        "1. Circulares\n",
        "2. Prioridad\n",
        "    1. Acotada\n",
        "    2. No acotada\n"
      ]
    },
    {
      "cell_type": "code",
      "metadata": {
        "id": "w3EMGRuLUeGZ"
      },
      "source": [
        "class Nodo:\n",
        "    def __init__(self, prioridad, elem):\n",
        "        self.prioridad = prioridad\n",
        "        self.elem = elem\n",
        "     \n",
        "class PriorityQueue2:\n",
        "    def __init__( self ):\n",
        "        self.data = []\n",
        "    \n",
        "    def is_empty( self ):\n",
        "        return len( self.data ) == 0\n",
        "\n",
        "    def length( self ):\n",
        "        return len( self.data )\n",
        "\n",
        "    def enqueue( self , nodo ):\n",
        "        if self.is_empty():\n",
        "            self.data.append( nodo )\n",
        "        else:\n",
        "            for x in range(0, self.length()):\n",
        "                if nodo.prioridad >= self.data[x].prioridad:\n",
        "                    if x == (self.length() - 1):\n",
        "                        self.data.insert(x+1, nodo)\n",
        "                    else:\n",
        "                        continue\n",
        "                else:\n",
        "                    self.data.insert(x, nodo)\n",
        "                    return True\n",
        "\n",
        "\n",
        "    def dequeue( self ):\n",
        "        return self.data.pop(0)\n",
        "\n",
        "    def to_string( self ):\n",
        "        for x in self.data:\n",
        "            print(f\" |{x.prioridad},{x.elem}| <--\", end=\"\")"
      ],
      "execution_count": 24,
      "outputs": []
    },
    {
      "cell_type": "code",
      "metadata": {
        "colab": {
          "base_uri": "https://localhost:8080/"
        },
        "id": "D6Z-EHuc5QE8",
        "outputId": "62d50253-88b7-4b05-fd1e-a8bb3c3d5f51"
      },
      "source": [
        "pcola = PriorityQueue2()\n",
        "print(f\"¿La lista está vacía? = {pcola.is_empty()}\")\n",
        "print(f\"La longitud de la cola es: {pcola.length()}\")\n",
        "print(\"\")\n",
        "nodo1 = Nodo(1, \"Niñas\")\n",
        "nodo2 = Nodo(1, \"Mujeres\")\n",
        "nodo3 = Nodo(1, \"Personas de la 3era edad\")\n",
        "nodo4 = Nodo(3, \"Hombres\")\n",
        "nodo5 = Nodo(2, \"Niños\")\n",
        "nodo6 = Nodo(5, \"Capitan\")\n",
        "nodo7 = Nodo(4, \"Trabajadores\")\n",
        "nodo8 = Nodo(4, \"Tripulación\")\n",
        "\n",
        "pcola.enqueue(nodo1)\n",
        "pcola.enqueue(nodo2)\n",
        "pcola.enqueue(nodo3)\n",
        "pcola.enqueue(nodo4)\n",
        "pcola.enqueue(nodo5)\n",
        "pcola.enqueue(nodo6)\n",
        "pcola.enqueue(nodo7)\n",
        "pcola.enqueue(nodo8)\n",
        "pcola.to_string()\n",
        "print(\"\")\n",
        "print(f\"La longitud de la cola es: {pcola.length()}\")\n",
        "print(\"\")\n",
        "print(\"--------------------------Despues de dequeue--------------------------\")\n",
        "print(\"\")\n",
        "pcola.dequeue()\n",
        "pcola.to_string()\n",
        "print(\"\")\n",
        "print(f\"La longitud de la cola es: {pcola.length()}\")\n"
      ],
      "execution_count": 25,
      "outputs": [
        {
          "output_type": "stream",
          "name": "stdout",
          "text": [
            "¿La lista está vacía? = True\n",
            "La longitud de la cola es: 0\n",
            "\n",
            " |1,Niñas| <-- |1,Mujeres| <-- |1,Personas de la 3era edad| <-- |2,Niños| <-- |3,Hombres| <-- |4,Trabajadores| <-- |4,Tripulación| <-- |5,Capitan| <--\n",
            "La longitud de la cola es: 8\n",
            "\n",
            "--------------------------Despues de dequeue--------------------------\n",
            "\n",
            " |1,Mujeres| <-- |1,Personas de la 3era edad| <-- |2,Niños| <-- |3,Hombres| <-- |4,Trabajadores| <-- |4,Tripulación| <-- |5,Capitan| <--\n",
            "La longitud de la cola es: 7\n"
          ]
        }
      ]
    },
    {
      "cell_type": "code",
      "metadata": {
        "id": "TdouySIfBqt5"
      },
      "source": [
        "#Implementación de la cola de prioridad acotada\n",
        "\n",
        "class BoundedPriorityQueue:\n",
        "    def __init__( self , niveles ):\n",
        "        self.__data = [ Queue() for x in range(niveles) ]\n",
        "        self.__size = 0\n",
        "\n",
        "    def is_empty( self ):\n",
        "        return self.__size == 0\n",
        "    \n",
        "    def length( self ):\n",
        "        return self.__size\n",
        "\n",
        "    def enqueue( self , prioridad , elem ):\n",
        "        if prioridad < len( self.__data ) \\\n",
        "            and prioridad >= 0:\n",
        "            self.__data[ prioridad ].enqueue( elem )\n",
        "            self.__size += 1\n",
        "\n",
        "    def dequeue( self ):\n",
        "        nivel = 0\n",
        "        while self.__data[nivel].is_empty() \\\n",
        "                and nivel < self.length():\n",
        "            nivel += 1\n",
        "        \n",
        "        if nivel >= self.length():\n",
        "            print(\"Cola está vacía\")\n",
        "        else:\n",
        "            return self.__data[ nivel ].dequeue()\n",
        "\n",
        "    def to_string( self ):\n",
        "        prioridad = 0\n",
        "        for cola in self.__data:\n",
        "            print(f\"Prioridad {prioridad} -->\" , end=\"\")\n",
        "            cola.to_string()\n",
        "            prioridad += 1\n"
      ],
      "execution_count": 26,
      "outputs": []
    },
    {
      "cell_type": "code",
      "metadata": {
        "colab": {
          "base_uri": "https://localhost:8080/"
        },
        "id": "qCUwpfLcMqsM",
        "outputId": "08e2f1c5-9edc-4eb7-9fb1-433c757ff0cd"
      },
      "source": [
        "#Prueba de la cola con prioridad\n",
        "salvavidas = BoundedPriorityQueue(7)\n",
        "salvavidas.enqueue( 4 , \"Maestre\" )\n",
        "salvavidas.enqueue( 1 , \"Niños\" )\n",
        "salvavidas.enqueue( 4 , \"Mecanico\" )\n",
        "salvavidas.enqueue( 3 , \"Mujeres\" )\n",
        "salvavidas.enqueue( 2 , \"Tercera edad\" )\n",
        "salvavidas.enqueue( 1 , \"Niñas\" )\n",
        "salvavidas.enqueue( 3 , \"Hombres\" )\n",
        "salvavidas.enqueue( 4 , \"Vigia\" )\n",
        "salvavidas.enqueue( 5 , \"Capitan\" )\n",
        "salvavidas.enqueue( 4 , \"Timonel\" )\n",
        "\n",
        "salvavidas.to_string()\n",
        "sig = salvavidas.dequeue()\n",
        "print(f\"Subiendo a {sig} al bote salvavidas!!\")\n",
        "salvavidas.to_string()"
      ],
      "execution_count": 27,
      "outputs": [
        {
          "output_type": "stream",
          "name": "stdout",
          "text": [
            "Prioridad 0 -->\n",
            "Prioridad 1 -->|Niños| <-- |Niñas| <-- \n",
            "Prioridad 2 -->|Tercera edad| <-- \n",
            "Prioridad 3 -->|Mujeres| <-- |Hombres| <-- \n",
            "Prioridad 4 -->|Maestre| <-- |Mecanico| <-- |Vigia| <-- |Timonel| <-- \n",
            "Prioridad 5 -->|Capitan| <-- \n",
            "Prioridad 6 -->\n",
            "Subiendo a Niños al bote salvavidas!!\n",
            "Prioridad 0 -->\n",
            "Prioridad 1 -->|Niñas| <-- \n",
            "Prioridad 2 -->|Tercera edad| <-- \n",
            "Prioridad 3 -->|Mujeres| <-- |Hombres| <-- \n",
            "Prioridad 4 -->|Maestre| <-- |Mecanico| <-- |Vigia| <-- |Timonel| <-- \n",
            "Prioridad 5 -->|Capitan| <-- \n",
            "Prioridad 6 -->\n"
          ]
        }
      ]
    },
    {
      "cell_type": "code",
      "metadata": {
        "id": "7TvlzJUTRz16"
      },
      "source": [
        "#Implementación de las coas de prioridad sin acotamineto\n",
        "\n",
        "class PriorityQueue:\n",
        "    def __init__( self ):\n",
        "        self.__data = []\n",
        "        self.__size = 0\n",
        "    \n",
        "    def is_empty( self ):\n",
        "        return self.__size == 0\n",
        "    \n",
        "    def length( self ):\n",
        "        return self.__size\n",
        "\n",
        "    def enqueue( self , prioridad , elem ):\n",
        "        existe = False\n",
        "        indice = 0\n",
        "        for index in range(len(self.__data)):\n",
        "            if self.__data[index][\"prioridad\"] == prioridad:\n",
        "                existe = True\n",
        "                indice = index\n",
        "\n",
        "        if existe:\n",
        "            self.__data[indice][\"cola\"].enqueue(elem)\n",
        "        else:\n",
        "            self.__data.append( {\"prioridad\":prioridad , \"cola\": Queue() } )\n",
        "            self.__data[-1][\"cola\"].enqueue(elem)\n",
        "\n",
        "    def to_string( self ):\n",
        "        for cola in self.__data:\n",
        "           cola[\"cola\"].to_string()"
      ],
      "execution_count": 42,
      "outputs": []
    },
    {
      "cell_type": "code",
      "metadata": {
        "colab": {
          "base_uri": "https://localhost:8080/"
        },
        "id": "AfAF40xfWgH6",
        "outputId": "aa6f9833-cbb8-4c31-fb48-58dc8542f980"
      },
      "source": [
        "cp = PriorityQueue()\n",
        "cp.enqueue(1,\"niñas\")\n",
        "cp.enqueue(1,\"mujeres\")\n",
        "cp.enqueue(2,\"niños\")\n",
        "cp.to_string()"
      ],
      "execution_count": 43,
      "outputs": [
        {
          "output_type": "stream",
          "name": "stdout",
          "text": [
            "|niñas| <-- |mujeres| <-- \n",
            "|niños| <-- \n"
          ]
        }
      ]
    }
  ]
}